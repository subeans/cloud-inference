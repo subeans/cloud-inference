{
 "cells": [
  {
   "cell_type": "code",
   "execution_count": 1,
   "id": "9eb9af7e",
   "metadata": {},
   "outputs": [],
   "source": [
    "import pandas as pd\n",
    "import json"
   ]
  },
  {
   "cell_type": "code",
   "execution_count": 2,
   "id": "974914f6",
   "metadata": {},
   "outputs": [],
   "source": [
    "def get_prof_list(hardware,model_name):\n",
    "    import os\n",
    "\n",
    "    dir_path = f\"./prof_inf/{hardware}/{model_name}_1/\"\n",
    "    file_names = []\n",
    "    for (root, directories, files) in os.walk(dir_path):\n",
    "        for file in files:\n",
    "            file_path = os.path.join(root, file)\n",
    "            file_names.append(file_path)\n",
    "    return file_names"
   ]
  },
  {
   "cell_type": "code",
   "execution_count": 3,
   "id": "73dea25c",
   "metadata": {},
   "outputs": [],
   "source": [
    "CPU_file_list = get_prof_list('CPU','mobilenet_v2')\n",
    "EIA_file_list = get_prof_list('EIA','mobilenet_v2')\n",
    "GPU_file_list = get_prof_list('GPU','mobilenet_v2')"
   ]
  },
  {
   "cell_type": "code",
   "execution_count": 4,
   "id": "2eed6f3c",
   "metadata": {},
   "outputs": [],
   "source": [
    "CPU_df = pd.read_csv(CPU_file_list[0])\n",
    "GPU_df = pd.read_csv(GPU_file_list[0])\n",
    "EIA_df = pd.read_csv(EIA_file_list[1])"
   ]
  },
  {
   "cell_type": "code",
   "execution_count": 5,
   "id": "1fcf9deb",
   "metadata": {},
   "outputs": [],
   "source": [
    "pd.set_option('display.max_rows',None)\n",
    "pd.set_option('display.max_columns',None)"
   ]
  },
  {
   "cell_type": "code",
   "execution_count": 7,
   "id": "055de3b9",
   "metadata": {},
   "outputs": [
    {
     "data": {
      "text/plain": [
       "Type\n",
       "IDLE                     59.670121\n",
       "MakeIterator             25.049993\n",
       "Conv2D                    3.695698\n",
       "ResizeBicubic             2.405980\n",
       "Dataset                   2.317597\n",
       "DecodeJpeg                2.066809\n",
       "FusedBatchNormV3          0.830365\n",
       "DepthwiseConv2dNative     0.641640\n",
       "_Send                     0.606892\n",
       "GatherV2                  0.578593\n",
       "Relu6                     0.517476\n",
       "Pad                       0.188156\n",
       "Slice                     0.182096\n",
       "AddV2                     0.118770\n",
       "Sub                       0.118059\n",
       "RealDiv                   0.108547\n",
       "AnonymousIteratorV2       0.069156\n",
       "MatMul                    0.063328\n",
       "StridedSlice              0.061662\n",
       "AssignVariableOp          0.042772\n",
       "Softmax                   0.041636\n",
       "VarHandleOp               0.036577\n",
       "Identity                  0.036339\n",
       "RepeatDataset             0.035018\n",
       "Transpose                 0.033859\n",
       "GreaterEqual              0.028064\n",
       "Pack                      0.027161\n",
       "Cast                      0.026607\n",
       "OptionsDataset            0.026445\n",
       "ParallelMapDatasetV2      0.023281\n",
       "TensorDataset             0.022135\n",
       "MapDataset                0.020597\n",
       "ReadVariableOp            0.019592\n",
       "RangeDataset              0.019590\n",
       "Unpack                    0.018923\n",
       "FlatMapDataset            0.018737\n",
       "PrefetchDataset           0.017597\n",
       "ZipDataset                0.017539\n",
       "TensorSliceDataset        0.017532\n",
       "IteratorGetNext           0.017320\n",
       "All                       0.017241\n",
       "FloorDiv                  0.017119\n",
       "ConcatenateDataset        0.016431\n",
       "AssignAddVariableOp       0.013703\n",
       "Mean                      0.012222\n",
       "Less                      0.011575\n",
       "Greater                   0.011544\n",
       "Maximum                   0.010709\n",
       "Neg                       0.008860\n",
       "BiasAdd                   0.008412\n",
       "Minimum                   0.008336\n",
       "Range                     0.007000\n",
       "Mul                       0.005355\n",
       "Assert                    0.004770\n",
       "Rint                      0.003262\n",
       "DestroyResourceOp         0.003115\n",
       "DeleteIterator            0.002088\n",
       "Name: Total self-time (us), dtype: float64"
      ]
     },
     "execution_count": 7,
     "metadata": {},
     "output_type": "execute_result"
    }
   ],
   "source": [
    "grouped = GPU_df['Total self-time (us)'].groupby(GPU_df['Type'])\n",
    "per_type = pd.DataFrame(grouped.sum().sort_values(ascending=False))\n",
    "total_self_time = sum(GPU_df['Total self-time (us)'])\n",
    "(per_type['Total self-time (us)']/total_self_time)*100"
   ]
  },
  {
   "cell_type": "code",
   "execution_count": null,
   "id": "fcf8b04d",
   "metadata": {
    "scrolled": true
   },
   "outputs": [],
   "source": []
  },
  {
   "cell_type": "code",
   "execution_count": null,
   "id": "8d383cde",
   "metadata": {},
   "outputs": [],
   "source": []
  }
 ],
 "metadata": {
  "kernelspec": {
   "display_name": "Python 3 (ipykernel)",
   "language": "python",
   "name": "python3"
  },
  "language_info": {
   "codemirror_mode": {
    "name": "ipython",
    "version": 3
   },
   "file_extension": ".py",
   "mimetype": "text/x-python",
   "name": "python",
   "nbconvert_exporter": "python",
   "pygments_lexer": "ipython3",
   "version": "3.9.7"
  }
 },
 "nbformat": 4,
 "nbformat_minor": 5
}
